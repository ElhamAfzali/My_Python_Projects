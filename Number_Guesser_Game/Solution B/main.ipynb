{
 "cells": [
  {
   "cell_type": "code",
   "execution_count": 2,
   "id": "80eb66e4",
   "metadata": {},
   "outputs": [],
   "source": [
    "import sys"
   ]
  },
  {
   "cell_type": "code",
   "execution_count": 3,
   "id": "5661c836",
   "metadata": {},
   "outputs": [
    {
     "data": {
      "text/plain": [
       "['/Users/elhamafzali/opt/anaconda3/envs/py311/lib/python311.zip',\n",
       " '/Users/elhamafzali/opt/anaconda3/envs/py311/lib/python3.11',\n",
       " '/Users/elhamafzali/opt/anaconda3/envs/py311/lib/python3.11/lib-dynload',\n",
       " '',\n",
       " '/Users/elhamafzali/opt/anaconda3/envs/py311/lib/python3.11/site-packages']"
      ]
     },
     "execution_count": 3,
     "metadata": {},
     "output_type": "execute_result"
    }
   ],
   "source": [
    "sys.path"
   ]
  },
  {
   "cell_type": "code",
   "execution_count": null,
   "id": "e92b3adb",
   "metadata": {},
   "outputs": [],
   "source": []
  }
 ],
 "metadata": {
  "kernelspec": {
   "display_name": "Python 3",
   "language": "python",
   "name": "python3"
  },
  "language_info": {
   "codemirror_mode": {
    "name": "ipython",
    "version": 3
   },
   "file_extension": ".py",
   "mimetype": "text/x-python",
   "name": "python",
   "nbconvert_exporter": "python",
   "pygments_lexer": "ipython3",
   "version": "3.11.13"
  }
 },
 "nbformat": 4,
 "nbformat_minor": 5
}
