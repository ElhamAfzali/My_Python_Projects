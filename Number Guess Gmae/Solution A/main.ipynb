{
 "cells": [
  {
   "cell_type": "code",
   "execution_count": 2,
   "id": "6045670e",
   "metadata": {},
   "outputs": [],
   "source": [
    "import random"
   ]
  },
  {
   "cell_type": "code",
   "execution_count": null,
   "id": "3a52f9d1",
   "metadata": {},
   "outputs": [
    {
     "data": {
      "text/plain": [
       "74"
      ]
     },
     "execution_count": 20,
     "metadata": {},
     "output_type": "execute_result"
    }
   ],
   "source": [
    "random_number = random.randint(1, 100)"
   ]
  },
  {
   "cell_type": "markdown",
   "id": "eb470add",
   "metadata": {},
   "source": [
    "# Possible inputs from the user\n",
    "\n",
    "- 1 < user_guess < 100\n",
    "- user_guess > 100\n",
    "- user_guess 1\n",
    "- non digit\n",
    "- q\n"
   ]
  },
  {
   "cell_type": "code",
   "execution_count": 33,
   "id": "04505bdf",
   "metadata": {},
   "outputs": [],
   "source": [
    "def validate_input(user_guess):\n",
    "    if not user_guess.isdigit():\n",
    "        print('Invalid input. please try again, your guess should be  an integer')\n",
    "        return False\n",
    "    user_guess = int(user_guess)\n",
    "    if user_guess > 100 or user_guess < 1:\n",
    "        print(\"Your guess is out of range! please try again, your guess should be between 1 and 100\")\n",
    "        return False\n",
    "    return True"
   ]
  },
  {
   "cell_type": "code",
   "execution_count": 37,
   "id": "61db6417",
   "metadata": {},
   "outputs": [
    {
     "name": "stdout",
     "output_type": "stream",
     "text": [
      "Invalid input. please try again, your guess should be  an integer\n",
      "Invalid input. please try again, your guess should be  an integer\n",
      "Thank you for playing. Goodbye!\n"
     ]
    }
   ],
   "source": [
    "score = 100\n",
    "\n",
    "while True:\n",
    "    user_guess = input(\"Guess a number between 1 and 100: \")\n",
    "    if user_guess == 'q':\n",
    "        print('Thank you for playing. Goodbye!')\n",
    "        break\n",
    "    if not validate_input(user_guess):\n",
    "        continue\n",
    "    user_guess = int(user_guess)\n",
    "    if user_guess > random_number:\n",
    "        print('Your guess is too high. please try again.')\n",
    "    elif user_guess < random_number:\n",
    "        print('Your guess is too low. please try again.')\n",
    "    else:\n",
    "        print('Congratulations! You win!')\n",
    "        print(f'your score is {score}')\n",
    "        break\n",
    "    score -= 10\n",
    "    score = max(score, 0)\n"
   ]
  },
  {
   "cell_type": "code",
   "execution_count": 1,
   "id": "123cdd52",
   "metadata": {},
   "outputs": [
    {
     "data": {
      "text/plain": [
       "66"
      ]
     },
     "execution_count": 1,
     "metadata": {},
     "output_type": "execute_result"
    }
   ],
   "source": [
    "import random\n",
    "\n",
    "\n",
    "random_number = random.randint(1, 100)\n",
    "random_number\n"
   ]
  },
  {
   "cell_type": "code",
   "execution_count": 2,
   "metadata": {},
   "outputs": [
    {
     "name": "stdout",
     "output_type": "stream",
     "text": [
      "too low! Try again\n"
     ]
    },
    {
     "ename": "AttributeError",
     "evalue": "'int' object has no attribute 'isdigit'",
     "output_type": "error",
     "traceback": [
      "\u001b[0;31m---------------------------------------------------------------------------\u001b[0m",
      "\u001b[0;31mAttributeError\u001b[0m                            Traceback (most recent call last)",
      "Cell \u001b[0;32mIn[2], line 7\u001b[0m\n\u001b[1;32m      5\u001b[0m     \u001b[38;5;28mprint\u001b[39m(\u001b[38;5;124m'\u001b[39m\u001b[38;5;124mThenks for playing! Googbye.\u001b[39m\u001b[38;5;124m'\u001b[39m)\n\u001b[1;32m      6\u001b[0m     \u001b[38;5;28;01mbreak\u001b[39;00m\n\u001b[0;32m----> 7\u001b[0m \u001b[38;5;28;01mif\u001b[39;00m \u001b[38;5;129;01mnot\u001b[39;00m \u001b[43mguess_number\u001b[49m\u001b[38;5;241;43m.\u001b[39;49m\u001b[43misdigit\u001b[49m():\n\u001b[1;32m      8\u001b[0m     \u001b[38;5;28mprint\u001b[39m(\u001b[38;5;124m'\u001b[39m\u001b[38;5;124mPlease input a valid number! you should input an intiger. Try again\u001b[39m\u001b[38;5;124m'\u001b[39m)\n\u001b[1;32m      9\u001b[0m     \u001b[38;5;28;01mcontinue\u001b[39;00m\n",
      "\u001b[0;31mAttributeError\u001b[0m: 'int' object has no attribute 'isdigit'"
     ]
    }
   ],
   "source": [
    "guess_number  = input('Please enter a number: ')\n",
    "\n",
    "while True:\n",
    "    if guess_number == 'q':\n",
    "        print('Thenks for playing! Googbye.')\n",
    "        break\n",
    "    if not guess_number.isdigit():\n",
    "        print('Please input a valid number! you should input an intiger. Try again')\n",
    "        continue\n",
    "    guess_number = int(guess_number)\n",
    "    if guess_number > 100 or guess_number < 1:\n",
    "        print(\"Your entry is out of range. Please enter a number between 1 and 100.\")\n",
    "        continue\n",
    "    if guess_number > random_number:\n",
    "        print(\"Too high! Try again\")\n",
    "    if guess_number < random_number:\n",
    "        print(\"too low! Try again\")\n",
    "    else:\n",
    "        print('congratulations! you win!')\n",
    "        break\n"
   ]
  },
  {
   "cell_type": "code",
   "execution_count": null,
   "id": "776b1742",
   "metadata": {},
   "outputs": [],
   "source": []
  }
 ],
 "metadata": {
  "kernelspec": {
   "display_name": "py39",
   "language": "python",
   "name": "python3"
  },
  "language_info": {
   "codemirror_mode": {
    "name": "ipython",
    "version": 3
   },
   "file_extension": ".py",
   "mimetype": "text/x-python",
   "name": "python",
   "nbconvert_exporter": "python",
   "pygments_lexer": "ipython3",
   "version": "3.9.23"
  }
 },
 "nbformat": 4,
 "nbformat_minor": 5
}
