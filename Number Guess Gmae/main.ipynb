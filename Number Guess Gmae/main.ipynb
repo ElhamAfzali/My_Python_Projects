{
 "cells": [
  {
   "cell_type": "code",
   "execution_count": 2,
   "id": "6045670e",
   "metadata": {},
   "outputs": [],
   "source": [
    "import random"
   ]
  },
  {
   "cell_type": "code",
   "execution_count": null,
   "id": "3a52f9d1",
   "metadata": {},
   "outputs": [
    {
     "data": {
      "text/plain": [
       "74"
      ]
     },
     "execution_count": 20,
     "metadata": {},
     "output_type": "execute_result"
    }
   ],
   "source": [
    "random_number = random.randint(1, 100)"
   ]
  },
  {
   "cell_type": "markdown",
   "id": "eb470add",
   "metadata": {},
   "source": [
    "# Possible inputs from the user\n",
    "\n",
    "- 1 < user_guess < 100\n",
    "- user_guess > 100\n",
    "- user_guess 1\n",
    "- non digit\n",
    "- q\n"
   ]
  },
  {
   "cell_type": "code",
   "execution_count": 33,
   "id": "04505bdf",
   "metadata": {},
   "outputs": [],
   "source": [
    "def validate_input(user_guess):\n",
    "    if not user_guess.isdigit():\n",
    "        print('Invalid input. please try again, your guess should be  an integer')\n",
    "        return False\n",
    "    user_guess = int(user_guess)\n",
    "    if user_guess > 100 or user_guess < 1:\n",
    "        print(\"Your guess is out of range! please try again, your guess should be between 1 and 100\")\n",
    "        return False\n",
    "    return True"
   ]
  },
  {
   "cell_type": "code",
   "execution_count": 37,
   "id": "61db6417",
   "metadata": {},
   "outputs": [
    {
     "name": "stdout",
     "output_type": "stream",
     "text": [
      "Invalid input. please try again, your guess should be  an integer\n",
      "Invalid input. please try again, your guess should be  an integer\n",
      "Thank you for playing. Goodbye!\n"
     ]
    }
   ],
   "source": [
    "score = 100\n",
    "\n",
    "while True:\n",
    "    user_guess = input(\"Guess a number between 1 and 100: \")\n",
    "    if user_guess == 'q':\n",
    "        print('Thank you for playing. Goodbye!')\n",
    "        break\n",
    "    if not validate_input(user_guess):\n",
    "        continue\n",
    "    user_guess = int(user_guess)\n",
    "    if user_guess > random_number:\n",
    "        print('Your guess is too high. please try again.')\n",
    "    elif user_guess < random_number:\n",
    "        print('Your guess is too low. please try again.')\n",
    "    else:\n",
    "        print('Congratulations! You win!')\n",
    "        print(f'your score is {score}')\n",
    "        break\n",
    "    score -= 10\n",
    "    score = max(score, 0)\n"
   ]
  },
  {
   "cell_type": "code",
   "execution_count": null,
   "metadata": {},
   "outputs": [],
   "source": []
  }
 ],
 "metadata": {
  "kernelspec": {
   "display_name": "py311",
   "language": "python",
   "name": "python3"
  },
  "language_info": {
   "codemirror_mode": {
    "name": "ipython",
    "version": 3
   },
   "file_extension": ".py",
   "mimetype": "text/x-python",
   "name": "python",
   "nbconvert_exporter": "python",
   "pygments_lexer": "ipython3",
   "version": "3.11.13"
  }
 },
 "nbformat": 4,
 "nbformat_minor": 5
}
