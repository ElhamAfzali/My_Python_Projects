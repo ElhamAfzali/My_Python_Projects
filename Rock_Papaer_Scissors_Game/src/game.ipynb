{
 "cells": [
  {
   "cell_type": "code",
   "execution_count": 3,
   "id": "f4ce35f6",
   "metadata": {},
   "outputs": [],
   "source": [
    "import random"
   ]
  },
  {
   "cell_type": "code",
   "execution_count": 28,
   "id": "11956ebc",
   "metadata": {},
   "outputs": [
    {
     "name": "stdout",
     "output_type": "stream",
     "text": [
      "The history saving thread hit an unexpected error (OperationalError('unable to open database file')).History will not be written to the database.\n"
     ]
    }
   ],
   "source": [
    "class RockPaperScissors():\n",
    "    def __init__(self, name):\n",
    "        self.name = name\n",
    "        self.choices = ['rock','paper', 'scissors']\n",
    "\n",
    "    def get_computer_choice(self):\n",
    "        return random.choice(self.choices)\n",
    "\n",
    "\n",
    "    def get_user_choice(self):\n",
    "        user_choice = input(f\"please enter your choice ({self.choices}): \")\n",
    "        if user_choice.lower() in self.choices:\n",
    "            return user_choice.lower()\n",
    "        print(f\"Invalid choice! You must choose fron ({self.choices})\")\n",
    "        return self.get_user_choice()\n",
    "\n",
    "    def decide_winner(self, user_choice, computer_choice):\n",
    "        if user_choice == computer_choice:\n",
    "            return \"It's a tie!\"\n",
    "        win_combinations = [('rock', 'scissors'), ('paper', 'rock'), ('scissors', 'paper')]\n",
    "        for win_comb in win_combinations:\n",
    "            if (user_choice == win_comb[0]) & (computer_choice == win_comb[1]):\n",
    "                return 'Congratulations! You won!'\n",
    "        return \"Oh! The computer won!\"\n",
    "\n",
    "\n",
    "    def play(self):\n",
    "        user_choice = self.get_user_choice()\n",
    "        computer_choice = self.get_computer_choice()\n",
    "        print(f\"user_choice: {user_choice},\\ncomputer_choice: {computer_choice}\")\n",
    "        print(self.decide_winner(user_choice, computer_choice))\n",
    "\n",
    "\n"
   ]
  },
  {
   "cell_type": "code",
   "execution_count": 29,
   "id": "587a350a",
   "metadata": {},
   "outputs": [
    {
     "name": "stdout",
     "output_type": "stream",
     "text": [
      "user_choice: rock,\n",
      "computer_choice: scissors\n",
      "Congratulations! You won!\n",
      "user_choice: rock,\n",
      "computer_choice: paper\n",
      "Oh! The computer won!\n",
      "user_choice: paper,\n",
      "computer_choice: scissors\n",
      "Oh! The computer won!\n",
      "user_choice: paper,\n",
      "computer_choice: paper\n",
      "It's a tie!\n"
     ]
    }
   ],
   "source": [
    "game = RockPaperScissors('Elham')\n",
    "while True:\n",
    "    game.play()\n",
    "\n",
    "    continue_game = input('Do you want to play again? (Enter any key to play again. Enter q/Q to exit!)')\n",
    "    if continue_game.lower() == 'q':\n",
    "        break"
   ]
  },
  {
   "cell_type": "code",
   "execution_count": null,
   "id": "21fdd4dc",
   "metadata": {},
   "outputs": [],
   "source": []
  }
 ],
 "metadata": {
  "kernelspec": {
   "display_name": "py311",
   "language": "python",
   "name": "python3"
  },
  "language_info": {
   "codemirror_mode": {
    "name": "ipython",
    "version": 3
   },
   "file_extension": ".py",
   "mimetype": "text/x-python",
   "name": "python",
   "nbconvert_exporter": "python",
   "pygments_lexer": "ipython3",
   "version": "3.11.13"
  }
 },
 "nbformat": 4,
 "nbformat_minor": 5
}
